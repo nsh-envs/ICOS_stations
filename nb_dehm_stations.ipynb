{
 "cells": [
  {
   "cell_type": "code",
   "execution_count": 1,
   "id": "09c19e5e-ab73-4641-a0ad-0f4e869c1d7f",
   "metadata": {},
   "outputs": [],
   "source": [
    "import numpy as np\n",
    "import matplotlib.pyplot as plt"
   ]
  },
  {
   "cell_type": "code",
   "execution_count": 12,
   "id": "42211d98-0253-4fda-b023-32b2e3ed61e2",
   "metadata": {},
   "outputs": [
    {
     "name": "stdout",
     "output_type": "stream",
     "text": [
      "dehm_stations_data/co2conc01.00h.z4.jan.test.4.dat\n"
     ]
    }
   ],
   "source": [
    "path = 'dehm_stations_data/'\n",
    "str1 = 'co2conc01.00h'\n",
    "str2 = ['','.z2','.z3','.z4']\n",
    "str3 = '.jan.test'\n",
    "str4 = ['','.2','.3','.4']\n",
    "str5 = '.dat'\n",
    "\n",
    "files = []\n",
    "for lvl in str2:\n",
    "    for nest in str4:\n",
    "        files.append(path+str1+lvl+str3+nest+str5)\n",
    "\n",
    "print(files[-1])"
   ]
  },
  {
   "cell_type": "code",
   "execution_count": 5,
   "id": "5036c981-76ed-48e7-9fd8-55db800fdd14",
   "metadata": {},
   "outputs": [],
   "source": [
    "ll = 76\n",
    "points = 744\n",
    "size = [12, 12, 12, 12, 12, 16]\n",
    "nstations = 37\n",
    "dehm_stat = np.zeros((4,4,37,744))\n",
    "time_stat"
   ]
  },
  {
   "cell_type": "code",
   "execution_count": 49,
   "id": "d7e13709-4603-490b-8ae5-fb056efacb14",
   "metadata": {},
   "outputs": [
    {
     "name": "stdout",
     "output_type": "stream",
     "text": [
      "        2011           1           1           1           1   1.151896    \n",
      "\n",
      "        2011           1           1           1           2  5.5624951E-05\n",
      "\n",
      "        2011\n",
      "           1\n",
      "           1\n",
      "           1\n",
      "           1\n",
      "   1.151896 \n"
     ]
    }
   ],
   "source": [
    "for lvl in range(4):\n",
    "    for nest in range(4):\n",
    "        with open(files[lvl*4+nest]) as record:\n",
    "            for line in record:\n",
    "                 = line[size[]:size[]]\n",
    "\n",
    "for i in range(6):\n",
    "    print(line1[size*i:size*(i+1)])\n",
    "#    for line in recordlines[0])"
   ]
  },
  {
   "cell_type": "markdown",
   "id": "8d2e9057-1c7c-40f7-a96f-4481a7eb774d",
   "metadata": {},
   "source": [
    "## def get_data(file_list):\n",
    "    "
   ]
  },
  {
   "cell_type": "code",
   "execution_count": null,
   "id": "7069927b-c098-4a91-b646-52b975dfaf12",
   "metadata": {},
   "outputs": [],
   "source": [
    "fig = plt.figure(figsize=(12,5))"
   ]
  },
  {
   "cell_type": "code",
   "execution_count": null,
   "id": "54418866-e78f-4f77-9431-3c143fc0dbed",
   "metadata": {},
   "outputs": [],
   "source": []
  }
 ],
 "metadata": {
  "kernelspec": {
   "display_name": "Python 3 (ipykernel)",
   "language": "python",
   "name": "python3"
  },
  "language_info": {
   "codemirror_mode": {
    "name": "ipython",
    "version": 3
   },
   "file_extension": ".py",
   "mimetype": "text/x-python",
   "name": "python",
   "nbconvert_exporter": "python",
   "pygments_lexer": "ipython3",
   "version": "3.10.12"
  }
 },
 "nbformat": 4,
 "nbformat_minor": 5
}
